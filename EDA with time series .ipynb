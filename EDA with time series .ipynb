{
 "cells": [
  {
   "cell_type": "code",
   "execution_count": 1,
   "id": "7723a293",
   "metadata": {},
   "outputs": [
    {
     "name": "stdout",
     "output_type": "stream",
     "text": [
      "Collecting pandas-datareader\n",
      "  Downloading pandas_datareader-0.10.0-py3-none-any.whl (109 kB)\n",
      "Requirement already satisfied: lxml in c:\\users\\admin\\anaconda3\\lib\\site-packages (from pandas-datareader) (4.6.3)\n",
      "Requirement already satisfied: pandas>=0.23 in c:\\users\\admin\\anaconda3\\lib\\site-packages (from pandas-datareader) (1.4.3)\n",
      "Requirement already satisfied: requests>=2.19.0 in c:\\users\\admin\\anaconda3\\lib\\site-packages (from pandas-datareader) (2.26.0)\n",
      "Requirement already satisfied: python-dateutil>=2.8.1 in c:\\users\\admin\\anaconda3\\lib\\site-packages (from pandas>=0.23->pandas-datareader) (2.8.2)\n",
      "Requirement already satisfied: pytz>=2020.1 in c:\\users\\admin\\anaconda3\\lib\\site-packages (from pandas>=0.23->pandas-datareader) (2021.3)\n",
      "Requirement already satisfied: numpy>=1.18.5 in c:\\users\\admin\\anaconda3\\lib\\site-packages (from pandas>=0.23->pandas-datareader) (1.20.3)\n",
      "Requirement already satisfied: six>=1.5 in c:\\users\\admin\\anaconda3\\lib\\site-packages (from python-dateutil>=2.8.1->pandas>=0.23->pandas-datareader) (1.16.0)\n",
      "Requirement already satisfied: charset-normalizer~=2.0.0 in c:\\users\\admin\\anaconda3\\lib\\site-packages (from requests>=2.19.0->pandas-datareader) (2.0.4)\n",
      "Requirement already satisfied: urllib3<1.27,>=1.21.1 in c:\\users\\admin\\anaconda3\\lib\\site-packages (from requests>=2.19.0->pandas-datareader) (1.26.7)\n",
      "Requirement already satisfied: idna<4,>=2.5 in c:\\users\\admin\\anaconda3\\lib\\site-packages (from requests>=2.19.0->pandas-datareader) (3.2)\n",
      "Requirement already satisfied: certifi>=2017.4.17 in c:\\users\\admin\\anaconda3\\lib\\site-packages (from requests>=2.19.0->pandas-datareader) (2022.6.15)\n",
      "Installing collected packages: pandas-datareader\n",
      "Successfully installed pandas-datareader-0.10.0\n",
      "Note: you may need to restart the kernel to use updated packages.\n"
     ]
    }
   ],
   "source": [
    "pip install pandas-datareader"
   ]
  },
  {
   "cell_type": "code",
   "execution_count": 6,
   "id": "477f8ec5",
   "metadata": {},
   "outputs": [],
   "source": [
    "import pandas as pd\n",
    "import pandas_datareader as pds\n",
    "from datetime import datetime"
   ]
  },
  {
   "cell_type": "code",
   "execution_count": 7,
   "id": "ad9c70d7",
   "metadata": {},
   "outputs": [],
   "source": [
    "df_tesla=pds.get_data_yahoo(\"TSLA\")"
   ]
  },
  {
   "cell_type": "code",
   "execution_count": 8,
   "id": "1743cdee",
   "metadata": {},
   "outputs": [
    {
     "data": {
      "text/html": [
       "<div>\n",
       "<style scoped>\n",
       "    .dataframe tbody tr th:only-of-type {\n",
       "        vertical-align: middle;\n",
       "    }\n",
       "\n",
       "    .dataframe tbody tr th {\n",
       "        vertical-align: top;\n",
       "    }\n",
       "\n",
       "    .dataframe thead th {\n",
       "        text-align: right;\n",
       "    }\n",
       "</style>\n",
       "<table border=\"1\" class=\"dataframe\">\n",
       "  <thead>\n",
       "    <tr style=\"text-align: right;\">\n",
       "      <th></th>\n",
       "      <th>High</th>\n",
       "      <th>Low</th>\n",
       "      <th>Open</th>\n",
       "      <th>Close</th>\n",
       "      <th>Volume</th>\n",
       "      <th>Adj Close</th>\n",
       "    </tr>\n",
       "    <tr>\n",
       "      <th>Date</th>\n",
       "      <th></th>\n",
       "      <th></th>\n",
       "      <th></th>\n",
       "      <th></th>\n",
       "      <th></th>\n",
       "      <th></th>\n",
       "    </tr>\n",
       "  </thead>\n",
       "  <tbody>\n",
       "    <tr>\n",
       "      <th>2017-11-13</th>\n",
       "      <td>21.120001</td>\n",
       "      <td>19.940666</td>\n",
       "      <td>20.008667</td>\n",
       "      <td>21.026667</td>\n",
       "      <td>113773500.0</td>\n",
       "      <td>21.026667</td>\n",
       "    </tr>\n",
       "    <tr>\n",
       "      <th>2017-11-14</th>\n",
       "      <td>21.090000</td>\n",
       "      <td>20.459999</td>\n",
       "      <td>21.000000</td>\n",
       "      <td>20.580000</td>\n",
       "      <td>85141500.0</td>\n",
       "      <td>20.580000</td>\n",
       "    </tr>\n",
       "    <tr>\n",
       "      <th>2017-11-15</th>\n",
       "      <td>20.832666</td>\n",
       "      <td>20.100000</td>\n",
       "      <td>20.400667</td>\n",
       "      <td>20.753332</td>\n",
       "      <td>89680500.0</td>\n",
       "      <td>20.753332</td>\n",
       "    </tr>\n",
       "    <tr>\n",
       "      <th>2017-11-16</th>\n",
       "      <td>21.209333</td>\n",
       "      <td>20.753332</td>\n",
       "      <td>20.932667</td>\n",
       "      <td>20.833332</td>\n",
       "      <td>87331500.0</td>\n",
       "      <td>20.833332</td>\n",
       "    </tr>\n",
       "    <tr>\n",
       "      <th>2017-11-17</th>\n",
       "      <td>21.778000</td>\n",
       "      <td>20.876667</td>\n",
       "      <td>21.711332</td>\n",
       "      <td>21.003332</td>\n",
       "      <td>206026500.0</td>\n",
       "      <td>21.003332</td>\n",
       "    </tr>\n",
       "  </tbody>\n",
       "</table>\n",
       "</div>"
      ],
      "text/plain": [
       "                 High        Low       Open      Close       Volume  Adj Close\n",
       "Date                                                                          \n",
       "2017-11-13  21.120001  19.940666  20.008667  21.026667  113773500.0  21.026667\n",
       "2017-11-14  21.090000  20.459999  21.000000  20.580000   85141500.0  20.580000\n",
       "2017-11-15  20.832666  20.100000  20.400667  20.753332   89680500.0  20.753332\n",
       "2017-11-16  21.209333  20.753332  20.932667  20.833332   87331500.0  20.833332\n",
       "2017-11-17  21.778000  20.876667  21.711332  21.003332  206026500.0  21.003332"
      ]
     },
     "execution_count": 8,
     "metadata": {},
     "output_type": "execute_result"
    }
   ],
   "source": [
    "df_tesla.head()"
   ]
  },
  {
   "cell_type": "code",
   "execution_count": 9,
   "id": "93eaf5ea",
   "metadata": {},
   "outputs": [
    {
     "data": {
      "text/html": [
       "<div>\n",
       "<style scoped>\n",
       "    .dataframe tbody tr th:only-of-type {\n",
       "        vertical-align: middle;\n",
       "    }\n",
       "\n",
       "    .dataframe tbody tr th {\n",
       "        vertical-align: top;\n",
       "    }\n",
       "\n",
       "    .dataframe thead th {\n",
       "        text-align: right;\n",
       "    }\n",
       "</style>\n",
       "<table border=\"1\" class=\"dataframe\">\n",
       "  <thead>\n",
       "    <tr style=\"text-align: right;\">\n",
       "      <th></th>\n",
       "      <th>High</th>\n",
       "      <th>Low</th>\n",
       "      <th>Open</th>\n",
       "      <th>Close</th>\n",
       "      <th>Volume</th>\n",
       "      <th>Adj Close</th>\n",
       "    </tr>\n",
       "    <tr>\n",
       "      <th>Date</th>\n",
       "      <th></th>\n",
       "      <th></th>\n",
       "      <th></th>\n",
       "      <th></th>\n",
       "      <th></th>\n",
       "      <th></th>\n",
       "    </tr>\n",
       "  </thead>\n",
       "  <tbody>\n",
       "    <tr>\n",
       "      <th>2022-11-04</th>\n",
       "      <td>223.800003</td>\n",
       "      <td>203.080002</td>\n",
       "      <td>222.600006</td>\n",
       "      <td>207.470001</td>\n",
       "      <td>98453100.0</td>\n",
       "      <td>207.470001</td>\n",
       "    </tr>\n",
       "    <tr>\n",
       "      <th>2022-11-07</th>\n",
       "      <td>208.899994</td>\n",
       "      <td>196.660004</td>\n",
       "      <td>208.649994</td>\n",
       "      <td>197.080002</td>\n",
       "      <td>93916500.0</td>\n",
       "      <td>197.080002</td>\n",
       "    </tr>\n",
       "    <tr>\n",
       "      <th>2022-11-08</th>\n",
       "      <td>195.199997</td>\n",
       "      <td>186.750000</td>\n",
       "      <td>194.020004</td>\n",
       "      <td>191.300003</td>\n",
       "      <td>128803400.0</td>\n",
       "      <td>191.300003</td>\n",
       "    </tr>\n",
       "    <tr>\n",
       "      <th>2022-11-09</th>\n",
       "      <td>195.889999</td>\n",
       "      <td>177.119995</td>\n",
       "      <td>190.779999</td>\n",
       "      <td>177.589996</td>\n",
       "      <td>127062700.0</td>\n",
       "      <td>177.589996</td>\n",
       "    </tr>\n",
       "    <tr>\n",
       "      <th>2022-11-10</th>\n",
       "      <td>191.000000</td>\n",
       "      <td>180.029999</td>\n",
       "      <td>189.899994</td>\n",
       "      <td>190.720001</td>\n",
       "      <td>132389600.0</td>\n",
       "      <td>190.720001</td>\n",
       "    </tr>\n",
       "  </tbody>\n",
       "</table>\n",
       "</div>"
      ],
      "text/plain": [
       "                  High         Low        Open       Close       Volume  \\\n",
       "Date                                                                      \n",
       "2022-11-04  223.800003  203.080002  222.600006  207.470001   98453100.0   \n",
       "2022-11-07  208.899994  196.660004  208.649994  197.080002   93916500.0   \n",
       "2022-11-08  195.199997  186.750000  194.020004  191.300003  128803400.0   \n",
       "2022-11-09  195.889999  177.119995  190.779999  177.589996  127062700.0   \n",
       "2022-11-10  191.000000  180.029999  189.899994  190.720001  132389600.0   \n",
       "\n",
       "             Adj Close  \n",
       "Date                    \n",
       "2022-11-04  207.470001  \n",
       "2022-11-07  197.080002  \n",
       "2022-11-08  191.300003  \n",
       "2022-11-09  177.589996  \n",
       "2022-11-10  190.720001  "
      ]
     },
     "execution_count": 9,
     "metadata": {},
     "output_type": "execute_result"
    }
   ],
   "source": [
    "df_tesla.tail()"
   ]
  },
  {
   "cell_type": "code",
   "execution_count": 21,
   "id": "bb4ccbe0",
   "metadata": {},
   "outputs": [
    {
     "data": {
      "text/plain": [
       "<AxesSubplot:xlabel='Date'>"
      ]
     },
     "execution_count": 21,
     "metadata": {},
     "output_type": "execute_result"
    },
    {
     "data": {
      "image/png": "[encoded data removed]",
      "text/plain": [
       "<Figure size 864x288 with 1 Axes>"
      ]
     },
     "metadata": {
      "needs_background": "light"
     },
     "output_type": "display_data"
    }
   ],
   "source": [
    "df_tesla[\"High\"].plot(xlim=[\"2020-10-01\",\"2022-10-01\"],figsize=(12,4),c=\"green\")"
   ]
  },
  {
   "cell_type": "code",
   "execution_count": 26,
   "id": "5544192a",
   "metadata": {},
   "outputs": [],
   "source": [
    " index=df_tesla.loc[\"2020-01-01\":\"2022-01-01\"].index\n",
    " share_open=df_tesla.loc[\"2020-01-01\":\"2022-01-01\"][\"Open\"]"
   ]
  },
  {
   "cell_type": "code",
   "execution_count": 28,
   "id": "d30f56df",
   "metadata": {},
   "outputs": [
    {
     "data": {
      "text/plain": [
       "Date\n",
       "2020-01-02     28.299999\n",
       "2020-01-03     29.366667\n",
       "2020-01-06     29.364668\n",
       "2020-01-07     30.760000\n",
       "2020-01-08     31.580000\n",
       "                 ...    \n",
       "2021-12-27    357.890015\n",
       "2021-12-28    369.829987\n",
       "2021-12-29    366.213318\n",
       "2021-12-30    353.776672\n",
       "2021-12-31    357.813324\n",
       "Name: Open, Length: 505, dtype: float64"
      ]
     },
     "execution_count": 28,
     "metadata": {},
     "output_type": "execute_result"
    }
   ],
   "source": [
    "share_open"
   ]
  },
  {
   "cell_type": "code",
   "execution_count": 30,
   "id": "4b540312",
   "metadata": {},
   "outputs": [],
   "source": [
    "tesla=df_tesla.reset_index()"
   ]
  },
  {
   "cell_type": "code",
   "execution_count": 32,
   "id": "2c95ef57",
   "metadata": {},
   "outputs": [
    {
     "data": {
      "text/plain": [
       "0      2017-11-13\n",
       "1      2017-11-14\n",
       "2      2017-11-15\n",
       "3      2017-11-16\n",
       "4      2017-11-17\n",
       "          ...    \n",
       "1253   2022-11-04\n",
       "1254   2022-11-07\n",
       "1255   2022-11-08\n",
       "1256   2022-11-09\n",
       "1257   2022-11-10\n",
       "Name: Date, Length: 1258, dtype: datetime64[ns]"
      ]
     },
     "execution_count": 32,
     "metadata": {},
     "output_type": "execute_result"
    }
   ],
   "source": [
    "pd.to_datetime(tesla[\"Date\"])"
   ]
  },
  {
   "cell_type": "code",
   "execution_count": 36,
   "id": "1b00abe0",
   "metadata": {},
   "outputs": [],
   "source": [
    "tesla.set_index('Date',inplace=True,drop=True)"
   ]
  },
  {
   "cell_type": "code",
   "execution_count": 37,
   "id": "cdbb8d8c",
   "metadata": {},
   "outputs": [
    {
     "data": {
      "text/html": [
       "<div>\n",
       "<style scoped>\n",
       "    .dataframe tbody tr th:only-of-type {\n",
       "        vertical-align: middle;\n",
       "    }\n",
       "\n",
       "    .dataframe tbody tr th {\n",
       "        vertical-align: top;\n",
       "    }\n",
       "\n",
       "    .dataframe thead th {\n",
       "        text-align: right;\n",
       "    }\n",
       "</style>\n",
       "<table border=\"1\" class=\"dataframe\">\n",
       "  <thead>\n",
       "    <tr style=\"text-align: right;\">\n",
       "      <th></th>\n",
       "      <th>High</th>\n",
       "      <th>Low</th>\n",
       "      <th>Open</th>\n",
       "      <th>Close</th>\n",
       "      <th>Volume</th>\n",
       "      <th>Adj Close</th>\n",
       "    </tr>\n",
       "    <tr>\n",
       "      <th>Date</th>\n",
       "      <th></th>\n",
       "      <th></th>\n",
       "      <th></th>\n",
       "      <th></th>\n",
       "      <th></th>\n",
       "      <th></th>\n",
       "    </tr>\n",
       "  </thead>\n",
       "  <tbody>\n",
       "    <tr>\n",
       "      <th>2017-11-13</th>\n",
       "      <td>21.120001</td>\n",
       "      <td>19.940666</td>\n",
       "      <td>20.008667</td>\n",
       "      <td>21.026667</td>\n",
       "      <td>113773500.0</td>\n",
       "      <td>21.026667</td>\n",
       "    </tr>\n",
       "    <tr>\n",
       "      <th>2017-11-14</th>\n",
       "      <td>21.090000</td>\n",
       "      <td>20.459999</td>\n",
       "      <td>21.000000</td>\n",
       "      <td>20.580000</td>\n",
       "      <td>85141500.0</td>\n",
       "      <td>20.580000</td>\n",
       "    </tr>\n",
       "    <tr>\n",
       "      <th>2017-11-15</th>\n",
       "      <td>20.832666</td>\n",
       "      <td>20.100000</td>\n",
       "      <td>20.400667</td>\n",
       "      <td>20.753332</td>\n",
       "      <td>89680500.0</td>\n",
       "      <td>20.753332</td>\n",
       "    </tr>\n",
       "    <tr>\n",
       "      <th>2017-11-16</th>\n",
       "      <td>21.209333</td>\n",
       "      <td>20.753332</td>\n",
       "      <td>20.932667</td>\n",
       "      <td>20.833332</td>\n",
       "      <td>87331500.0</td>\n",
       "      <td>20.833332</td>\n",
       "    </tr>\n",
       "    <tr>\n",
       "      <th>2017-11-17</th>\n",
       "      <td>21.778000</td>\n",
       "      <td>20.876667</td>\n",
       "      <td>21.711332</td>\n",
       "      <td>21.003332</td>\n",
       "      <td>206026500.0</td>\n",
       "      <td>21.003332</td>\n",
       "    </tr>\n",
       "  </tbody>\n",
       "</table>\n",
       "</div>"
      ],
      "text/plain": [
       "                 High        Low       Open      Close       Volume  Adj Close\n",
       "Date                                                                          \n",
       "2017-11-13  21.120001  19.940666  20.008667  21.026667  113773500.0  21.026667\n",
       "2017-11-14  21.090000  20.459999  21.000000  20.580000   85141500.0  20.580000\n",
       "2017-11-15  20.832666  20.100000  20.400667  20.753332   89680500.0  20.753332\n",
       "2017-11-16  21.209333  20.753332  20.932667  20.833332   87331500.0  20.833332\n",
       "2017-11-17  21.778000  20.876667  21.711332  21.003332  206026500.0  21.003332"
      ]
     },
     "execution_count": 37,
     "metadata": {},
     "output_type": "execute_result"
    }
   ],
   "source": [
    "tesla.head() "
   ]
  },
  {
   "cell_type": "code",
   "execution_count": 39,
   "id": "438aa6ba",
   "metadata": {},
   "outputs": [
    {
     "data": {
      "text/plain": [
       "datetime.datetime(22, 11, 21, 0, 0)"
      ]
     },
     "execution_count": 39,
     "metadata": {},
     "output_type": "execute_result"
    }
   ],
   "source": [
    "datetime(22,11,21)"
   ]
  },
  {
   "cell_type": "code",
   "execution_count": 42,
   "id": "3992567f",
   "metadata": {},
   "outputs": [
    {
     "data": {
      "text/plain": [
       "datetime.datetime(2022, 11, 11, 11, 54, 52, 759861)"
      ]
     },
     "execution_count": 42,
     "metadata": {},
     "output_type": "execute_result"
    }
   ],
   "source": [
    "datetime.now()"
   ]
  },
  {
   "cell_type": "code",
   "execution_count": 43,
   "id": "fd73bd0a",
   "metadata": {},
   "outputs": [
    {
     "data": {
      "text/plain": [
       "<method 'weekday' of 'datetime.date' objects>"
      ]
     },
     "execution_count": 43,
     "metadata": {},
     "output_type": "execute_result"
    }
   ],
   "source": [
    "datetime.weekday"
   ]
  },
  {
   "cell_type": "code",
   "execution_count": null,
   "id": "b5602a9c",
   "metadata": {},
   "outputs": [],
   "source": []
  }
 ],
 "metadata": {
  "kernelspec": {
   "display_name": "Python 3 (ipykernel)",
   "language": "python",
   "name": "python3"
  },
  "language_info": {
   "codemirror_mode": {
    "name": "ipython",
    "version": 3
   },
   "file_extension": ".py",
   "mimetype": "text/x-python",
   "name": "python",
   "nbconvert_exporter": "python",
   "pygments_lexer": "ipython3",
   "version": "3.9.7"
  }
 },
 "nbformat": 4,
 "nbformat_minor": 5
}
